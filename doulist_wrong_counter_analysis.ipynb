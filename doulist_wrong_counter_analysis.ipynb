{
 "cells": [
  {
   "cell_type": "markdown",
   "metadata": {},
   "source": [
    "# 豆瓣上，计数错误的豆列\n",
    "\n",
    "- 豆列 `doulist`: 豆列是收集好东西的工具。  \n",
    "    为了避免`list`在表义上困难，豆列的英文单词改用`doist`。"
   ]
  },
  {
   "cell_type": "code",
   "execution_count": 1,
   "metadata": {},
   "outputs": [],
   "source": [
    "import requests\n",
    "from bs4 import BeautifulSoup\n",
    "import re\n",
    "from functools import reduce\n",
    "import time\n",
    "\n",
    "\n",
    "douban_id = 'oldratlee'\n",
    "\n",
    "headers = {\n",
    "    'Accept': 'text/html,application/xhtml+xml,application/xml;q=0.9,image/webp,image/apng,*/*;q=0.8,application/signed-exchange;v=b3',\n",
    "    'Accept-Language': 'zh-CN,zh;q=0.9,en-US;q=0.8,en;q=0.7',\n",
    "    'Cache-Control': 'max-age=0',\n",
    "    'Connection': 'keep-alive',\n",
    "    'Host': 'www.douban.com',\n",
    "    'Sec-Fetch-Mode': 'navigate',\n",
    "    'Sec-Fetch-Site': 'none',\n",
    "    'Sec-Fetch-User': '?1',\n",
    "    'Upgrade-Insecure-Requests': '1',\n",
    "    'User-Agent': 'Mozilla/5.0 (Macintosh; Intel Mac OS X 10_12_5) AppleWebKit/537.36 (KHTML, like Gecko) Chrome/77.0.3865.120 Safari/537.36',\n",
    "}\n",
    "\n",
    "\n",
    "def get_soup(url):\n",
    "    print(f\"request {url} ...\")\n",
    "    time.sleep(5)\n",
    "    request = requests.get(url, headers=headers)\n",
    "    request.encoding = 'utf-8'\n",
    "\n",
    "    return BeautifulSoup(request.text, 'lxml')"
   ]
  },
  {
   "cell_type": "code",
   "execution_count": 2,
   "metadata": {},
   "outputs": [
    {
     "name": "stdout",
     "output_type": "stream",
     "text": [
      "request https://www.douban.com/people/oldratlee/doulists/all ...\n"
     ]
    },
    {
     "data": {
      "text/plain": [
       "<head>\n",
       "<meta content=\"text/html; charset=utf-8\" http-equiv=\"Content-Type\"/>\n",
       "<meta content=\"webkit\" name=\"renderer\"/>\n",
       "<meta content=\"always\" name=\"referrer\"/>\n",
       "<meta content=\"ok0wCgT20tBBgo9_zat2iAcimtN4Ftf5ccsh092Xeyw\" name=\"google-site-verification\"/>\n",
       "<title>\n",
       "    李鼎(哲良)创建的豆列\n",
       "</title>\n",
       "<meta content=\"no-cache\" http-equiv=\"Pragma\"/>\n",
       "<meta content=\"Sun, 6 Mar 2005 01:00:00 GMT\" http-equiv=\"Expires\"/>\n",
       "<script>var _head_start = new Date();</script>\n",
       "<script src=\"https://img3.doubanio.com/f/shire/72ced6df41d4d158420cebdd254f9562942464e3/js/jquery.min.js\"></script>\n",
       "<script src=\"https://img3.doubanio.com/f/shire/5ecaf46d6954d5a30bc7d99be86ae34031646e00/js/douban.js\"></script>\n",
       "<link href=\"https://img3.doubanio.com/f/shire/52c9997d6d42db58eab418e976a14d5f3eff981e/css/douban.css\" rel=\"stylesheet\" type=\"text/css\"/>\n",
       "<style type=\"text/css\">\n",
       "    \n",
       "        a:link { color: #259; }\n",
       "        a:visited { color: #769; }\n",
       "        a:hover { color: #fff; }\n",
       "        a:active { color: #fff; }\n",
       "        \n",
       "    </style>\n",
       "<link href=\"https://img3.doubanio.com/misc/mixed_static/5cdf635d220ef7d3.css\" rel=\"stylesheet\"/>\n",
       "<script></script>\n",
       "<link href=\"https://img3.doubanio.com/favicon.ico\" rel=\"shortcut icon\" type=\"image/x-icon\"/>\n",
       "</head>"
      ]
     },
     "execution_count": 2,
     "metadata": {},
     "output_type": "execute_result"
    }
   ],
   "source": [
    "first_doist_list_page_soup = get_soup(f'https://www.douban.com/people/{douban_id}/doulists/all')\n",
    "\n",
    "first_doist_list_page_soup.head"
   ]
  },
  {
   "cell_type": "code",
   "execution_count": 3,
   "metadata": {},
   "outputs": [
    {
     "data": {
      "text/plain": [
       "<div class=\"paginator\">\n",
       "<span class=\"prev\">\n",
       "            &lt;前页\n",
       "        </span>\n",
       "<span class=\"thispage\" data-total-page=\"4\">1</span>\n",
       "<a href=\"/people/oldratlee/doulists/all?start=20&amp;tag=\">2</a>\n",
       "<a href=\"/people/oldratlee/doulists/all?start=40&amp;tag=\">3</a>\n",
       "<a href=\"/people/oldratlee/doulists/all?start=60&amp;tag=\">4</a>\n",
       "<span class=\"next\">\n",
       "<link href=\"/people/oldratlee/doulists/all?start=20&amp;tag=\" rel=\"next\"/>\n",
       "<a href=\"/people/oldratlee/doulists/all?start=20&amp;tag=\">后页&gt;</a>\n",
       "</span>\n",
       "</div>"
      ]
     },
     "execution_count": 3,
     "metadata": {},
     "output_type": "execute_result"
    }
   ],
   "source": [
    "paginator = first_doist_list_page_soup.find_all(\"div\", class_='paginator')\n",
    "assert len(paginator) == 1\n",
    "\n",
    "paginator[0]"
   ]
  },
  {
   "cell_type": "code",
   "execution_count": 4,
   "metadata": {},
   "outputs": [
    {
     "data": {
      "text/plain": [
       "['/people/oldratlee/doulists/all?start=20&tag=',\n",
       " '/people/oldratlee/doulists/all?start=40&tag=',\n",
       " '/people/oldratlee/doulists/all?start=60&tag=']"
      ]
     },
     "execution_count": 4,
     "metadata": {},
     "output_type": "execute_result"
    }
   ],
   "source": [
    "follow_doist_list_page_links = [p['href'] for p in paginator[0].find_all('a', recursive=False)]\n",
    "\n",
    "follow_doist_list_page_links"
   ]
  },
  {
   "cell_type": "code",
   "execution_count": 5,
   "metadata": {},
   "outputs": [
    {
     "name": "stdout",
     "output_type": "stream",
     "text": [
      "request https://www.douban.com//people/oldratlee/doulists/all?start=20&tag= ...\n",
      "request https://www.douban.com//people/oldratlee/doulists/all?start=40&tag= ...\n",
      "request https://www.douban.com//people/oldratlee/doulists/all?start=60&tag= ...\n"
     ]
    }
   ],
   "source": [
    "follow_doist_list_page_soups = [get_soup(f'https://www.douban.com/{link}') for link in follow_doist_list_page_links]"
   ]
  },
  {
   "cell_type": "code",
   "execution_count": 6,
   "metadata": {},
   "outputs": [],
   "source": [
    "doist_list_page_soups = [first_doist_list_page_soup] + follow_doist_list_page_soups"
   ]
  },
  {
   "cell_type": "code",
   "execution_count": 7,
   "metadata": {},
   "outputs": [
    {
     "data": {
      "text/plain": [
       "[<h3>\n",
       " <a href=\"https://www.douban.com/doulist/119758691/\">概率论/Probability Theory</a>\n",
       " </h3>, <h3>\n",
       " <a href=\"https://www.douban.com/doulist/119758590/\">线性代数/Linear Algebra</a>\n",
       " </h3>, <h3>\n",
       " <a href=\"https://www.douban.com/doulist/119758751/\">微积分/Calculus</a>\n",
       " </h3>, <h3>\n",
       " <a href=\"https://www.douban.com/doulist/111460931/\">数学思维/数学科普/Math</a>\n",
       " </h3>, <h3>\n",
       " <a href=\"https://www.douban.com/doulist/111461569/\">统计学/Statistics</a>\n",
       " </h3>, <h3>\n",
       " <a href=\"https://www.douban.com/doulist/45963852/\">探索性数据分析/Exploratory Data Analysis</a>\n",
       " </h3>, <h3>\n",
       " <a href=\"https://www.douban.com/doulist/119731263/\">数据科学/Data Science</a>\n",
       " </h3>, <h3>\n",
       " <a href=\"https://www.douban.com/doulist/111535748/\">逻辑/Logic/思考/思考力/批判性思维</a>\n",
       " </h3>, <h3>\n",
       " <a href=\"https://www.douban.com/doulist/120364733/\">统计学/Statistics - 吴喜之老师的著作译作</a>\n",
       " </h3>, <h3>\n",
       " <a href=\"https://www.douban.com/doulist/45904272/\">数据可视化/Data Visualisation</a>\n",
       " </h3>, <h3>\n",
       " <a href=\"https://www.douban.com/doulist/120213205/\">Python基础库：数据科学/数据分析/机器学习</a>\n",
       " </h3>, <h3>\n",
       " <a href=\"https://www.douban.com/doulist/45886960/\">机器学习/Machine Learning</a>\n",
       " </h3>, <h3>\n",
       " <a href=\"https://www.douban.com/doulist/50317624/\">我的收藏</a>\n",
       " </h3>, <h3>\n",
       " <a href=\"https://www.douban.com/doulist/119758049/\">深度学习/Deep Learning</a>\n",
       " </h3>, <h3>\n",
       " <a href=\"https://www.douban.com/doulist/45885813/\">Python应用：机器学习/Machine Learning</a>\n",
       " </h3>, <h3>\n",
       " <a href=\"https://www.douban.com/doulist/45730623/\">函数式编程/Functional Programming/FP</a>\n",
       " </h3>, <h3>\n",
       " <a href=\"https://www.douban.com/doulist/45800044/\">范畴论/Category Theory</a>\n",
       " </h3>, <h3>\n",
       " <a href=\"https://www.douban.com/doulist/120134394/\">数学建模/Mathematical Modeling</a>\n",
       " </h3>, <h3>\n",
       " <a href=\"https://www.douban.com/doulist/1785153/\">数据结构+算法/data structure + algorithm</a>\n",
       " </h3>, <h3>\n",
       " <a href=\"https://www.douban.com/doulist/112308490/\">领域驱动设计/Domain-Driven Design/DDD</a>\n",
       " </h3>]"
      ]
     },
     "execution_count": 7,
     "metadata": {},
     "output_type": "execute_result"
    }
   ],
   "source": [
    "first_doist_list_page_soup.find_all('h3')"
   ]
  },
  {
   "cell_type": "code",
   "execution_count": 8,
   "metadata": {},
   "outputs": [
    {
     "data": {
      "text/plain": [
       "['https://www.douban.com/doulist/119758691/',\n",
       " 'https://www.douban.com/doulist/119758590/',\n",
       " 'https://www.douban.com/doulist/119758751/',\n",
       " 'https://www.douban.com/doulist/111460931/',\n",
       " 'https://www.douban.com/doulist/111461569/',\n",
       " 'https://www.douban.com/doulist/45963852/',\n",
       " 'https://www.douban.com/doulist/119731263/',\n",
       " 'https://www.douban.com/doulist/111535748/',\n",
       " 'https://www.douban.com/doulist/120364733/',\n",
       " 'https://www.douban.com/doulist/45904272/',\n",
       " 'https://www.douban.com/doulist/120213205/',\n",
       " 'https://www.douban.com/doulist/45886960/',\n",
       " 'https://www.douban.com/doulist/119758049/',\n",
       " 'https://www.douban.com/doulist/45885813/',\n",
       " 'https://www.douban.com/doulist/45730623/',\n",
       " 'https://www.douban.com/doulist/45800044/',\n",
       " 'https://www.douban.com/doulist/120134394/',\n",
       " 'https://www.douban.com/doulist/1785153/',\n",
       " 'https://www.douban.com/doulist/112308490/']"
      ]
     },
     "execution_count": 8,
     "metadata": {},
     "output_type": "execute_result"
    }
   ],
   "source": [
    "def get_doist_link(soup):\n",
    "    return [doist_h3('a')[0].attrs['href']\n",
    "        for doist_h3 in soup.find_all('h3')\n",
    "        if doist_h3('a')[0].string != '我的收藏']\n",
    "\n",
    "get_doist_link(first_doist_list_page_soup)"
   ]
  },
  {
   "cell_type": "code",
   "execution_count": 9,
   "metadata": {},
   "outputs": [
    {
     "data": {
      "text/plain": [
       "['https://www.douban.com/doulist/119758691/',\n",
       " 'https://www.douban.com/doulist/119758590/',\n",
       " 'https://www.douban.com/doulist/119758751/',\n",
       " 'https://www.douban.com/doulist/111460931/',\n",
       " 'https://www.douban.com/doulist/111461569/',\n",
       " 'https://www.douban.com/doulist/45963852/',\n",
       " 'https://www.douban.com/doulist/119731263/',\n",
       " 'https://www.douban.com/doulist/111535748/',\n",
       " 'https://www.douban.com/doulist/120364733/',\n",
       " 'https://www.douban.com/doulist/45904272/',\n",
       " 'https://www.douban.com/doulist/120213205/',\n",
       " 'https://www.douban.com/doulist/45886960/',\n",
       " 'https://www.douban.com/doulist/119758049/',\n",
       " 'https://www.douban.com/doulist/45885813/',\n",
       " 'https://www.douban.com/doulist/45730623/',\n",
       " 'https://www.douban.com/doulist/45800044/',\n",
       " 'https://www.douban.com/doulist/120134394/',\n",
       " 'https://www.douban.com/doulist/1785153/',\n",
       " 'https://www.douban.com/doulist/112308490/',\n",
       " 'https://www.douban.com/doulist/40606671/',\n",
       " 'https://www.douban.com/doulist/1689404/',\n",
       " 'https://www.douban.com/doulist/45882848/',\n",
       " 'https://www.douban.com/doulist/46633186/',\n",
       " 'https://www.douban.com/doulist/41749522/',\n",
       " 'https://www.douban.com/doulist/67457911/',\n",
       " 'https://www.douban.com/doulist/40215201/',\n",
       " 'https://www.douban.com/doulist/1689399/',\n",
       " 'https://www.douban.com/doulist/116580372/',\n",
       " 'https://www.douban.com/doulist/112308024/',\n",
       " 'https://www.douban.com/doulist/110815128/',\n",
       " 'https://www.douban.com/doulist/37581469/',\n",
       " 'https://www.douban.com/doulist/41916951/',\n",
       " 'https://www.douban.com/doulist/115064554/',\n",
       " 'https://www.douban.com/doulist/108636342/',\n",
       " 'https://www.douban.com/doulist/46547196/',\n",
       " 'https://www.douban.com/doulist/1767927/',\n",
       " 'https://www.douban.com/doulist/44685355/',\n",
       " 'https://www.douban.com/doulist/45211346/',\n",
       " 'https://www.douban.com/doulist/46303985/',\n",
       " 'https://www.douban.com/doulist/42313455/',\n",
       " 'https://www.douban.com/doulist/1779540/',\n",
       " 'https://www.douban.com/doulist/1779379/',\n",
       " 'https://www.douban.com/doulist/109113733/',\n",
       " 'https://www.douban.com/doulist/109667388/',\n",
       " 'https://www.douban.com/doulist/45703250/',\n",
       " 'https://www.douban.com/doulist/46618234/',\n",
       " 'https://www.douban.com/doulist/46624514/',\n",
       " 'https://www.douban.com/doulist/40854103/',\n",
       " 'https://www.douban.com/doulist/1686793/',\n",
       " 'https://www.douban.com/doulist/38216029/',\n",
       " 'https://www.douban.com/doulist/46555944/',\n",
       " 'https://www.douban.com/doulist/1767907/',\n",
       " 'https://www.douban.com/doulist/46474381/',\n",
       " 'https://www.douban.com/doulist/1767916/',\n",
       " 'https://www.douban.com/doulist/41500790/',\n",
       " 'https://www.douban.com/doulist/45737386/',\n",
       " 'https://www.douban.com/doulist/1689442/',\n",
       " 'https://www.douban.com/doulist/43689666/',\n",
       " 'https://www.douban.com/doulist/44012820/',\n",
       " 'https://www.douban.com/doulist/43944081/',\n",
       " 'https://www.douban.com/doulist/40897118/',\n",
       " 'https://www.douban.com/doulist/41792144/',\n",
       " 'https://www.douban.com/doulist/41923531/',\n",
       " 'https://www.douban.com/doulist/1779295/',\n",
       " 'https://www.douban.com/doulist/4132550/',\n",
       " 'https://www.douban.com/doulist/40217127/',\n",
       " 'https://www.douban.com/doulist/40216757/',\n",
       " 'https://www.douban.com/doulist/40215504/',\n",
       " 'https://www.douban.com/doulist/39402755/',\n",
       " 'https://www.douban.com/doulist/37373330/',\n",
       " 'https://www.douban.com/doulist/1687032/']"
      ]
     },
     "execution_count": 9,
     "metadata": {},
     "output_type": "execute_result"
    }
   ],
   "source": [
    "all_doist_links = reduce(lambda value, element: value + element, \n",
    "       [get_doist_link(soup) for soup in doist_list_page_soups],\n",
    "       [])\n",
    "\n",
    "all_doist_links"
   ]
  },
  {
   "cell_type": "code",
   "execution_count": 10,
   "metadata": {},
   "outputs": [
    {
     "name": "stdout",
     "output_type": "stream",
     "text": [
      "request https://www.douban.com/doulist/1687032/ ...\n"
     ]
    },
    {
     "data": {
      "text/plain": [
       "'OSGi'"
      ]
     },
     "execution_count": 10,
     "metadata": {},
     "output_type": "execute_result"
    }
   ],
   "source": [
    "soup1 = get_soup('https://www.douban.com/doulist/1687032/')\n",
    "\n",
    "soup1.title.string"
   ]
  },
  {
   "cell_type": "code",
   "execution_count": 11,
   "metadata": {},
   "outputs": [
    {
     "data": {
      "text/plain": [
       "[<a class=\"active\" href=\"https://www.douban.com/doulist/1687032/\">全部<span>(11)</span></a>,\n",
       " <a class=\"\" href=\"https://www.douban.com/doulist/1687032/?sort=time&amp;sub_type=4\">图书<span>(11)</span></a>]"
      ]
     },
     "execution_count": 11,
     "metadata": {},
     "output_type": "execute_result"
    }
   ],
   "source": [
    "num_links = soup1.find_all('div', class_=\"doulist-filter\")[0].find_all('a')\n",
    "num_links"
   ]
  },
  {
   "cell_type": "code",
   "execution_count": 12,
   "metadata": {},
   "outputs": [
    {
     "data": {
      "text/plain": [
       "['(11)', '(11)']"
      ]
     },
     "execution_count": 12,
     "metadata": {},
     "output_type": "execute_result"
    }
   ],
   "source": [
    "[link.find('span').string for link in num_links]"
   ]
  },
  {
   "cell_type": "code",
   "execution_count": 13,
   "metadata": {},
   "outputs": [
    {
     "data": {
      "text/plain": [
       "['11', '11']"
      ]
     },
     "execution_count": 13,
     "metadata": {},
     "output_type": "execute_result"
    }
   ],
   "source": [
    "[re.sub(r'[()]', '',\n",
    "        link.find('span').string\n",
    "       )\n",
    "    for link in num_links]"
   ]
  },
  {
   "cell_type": "code",
   "execution_count": 14,
   "metadata": {},
   "outputs": [],
   "source": [
    "def get_nums_from_doist_soup(doist_soup):\n",
    "    num_links = doist_soup.find_all('div', class_=\"doulist-filter\")[0].find_all('a')\n",
    "\n",
    "    return [\n",
    "        int(\n",
    "            re.sub(r'[()]', '',link.find('span').string)\n",
    "        )\n",
    "        for link in num_links\n",
    "    ]"
   ]
  },
  {
   "cell_type": "code",
   "execution_count": 15,
   "metadata": {},
   "outputs": [
    {
     "data": {
      "text/plain": [
       "[11, 11]"
      ]
     },
     "execution_count": 15,
     "metadata": {},
     "output_type": "execute_result"
    }
   ],
   "source": [
    "nums = get_nums_from_doist_soup(soup1)\n",
    "\n",
    "nums"
   ]
  },
  {
   "cell_type": "code",
   "execution_count": 16,
   "metadata": {},
   "outputs": [],
   "source": [
    "def is_nums_correct(nums):\n",
    "     return nums[0] == sum(nums[1:])"
   ]
  },
  {
   "cell_type": "code",
   "execution_count": 17,
   "metadata": {},
   "outputs": [
    {
     "data": {
      "text/plain": [
       "True"
      ]
     },
     "execution_count": 17,
     "metadata": {},
     "output_type": "execute_result"
    }
   ],
   "source": [
    "is_nums_correct(nums)"
   ]
  },
  {
   "cell_type": "code",
   "execution_count": 18,
   "metadata": {},
   "outputs": [],
   "source": [
    "def get_result_info(doist_links):\n",
    "    for link in doist_links:\n",
    "        s = get_soup(link)\n",
    "        nums = get_nums_from_doist_soup(s)\n",
    "        yield (s.title.string, nums, link)"
   ]
  },
  {
   "cell_type": "code",
   "execution_count": 19,
   "metadata": {},
   "outputs": [
    {
     "name": "stdout",
     "output_type": "stream",
     "text": [
      "request https://www.douban.com/doulist/119758691/ ...\n",
      "request https://www.douban.com/doulist/119758590/ ...\n",
      "request https://www.douban.com/doulist/119758751/ ...\n",
      "request https://www.douban.com/doulist/111460931/ ...\n",
      "request https://www.douban.com/doulist/111461569/ ...\n",
      "request https://www.douban.com/doulist/45963852/ ...\n",
      "request https://www.douban.com/doulist/119731263/ ...\n",
      "request https://www.douban.com/doulist/111535748/ ...\n",
      "request https://www.douban.com/doulist/120364733/ ...\n",
      "request https://www.douban.com/doulist/45904272/ ...\n",
      "request https://www.douban.com/doulist/120213205/ ...\n",
      "request https://www.douban.com/doulist/45886960/ ...\n",
      "request https://www.douban.com/doulist/119758049/ ...\n",
      "request https://www.douban.com/doulist/45885813/ ...\n",
      "request https://www.douban.com/doulist/45730623/ ...\n",
      "request https://www.douban.com/doulist/45800044/ ...\n",
      "request https://www.douban.com/doulist/120134394/ ...\n",
      "request https://www.douban.com/doulist/1785153/ ...\n",
      "request https://www.douban.com/doulist/112308490/ ...\n",
      "request https://www.douban.com/doulist/40606671/ ...\n",
      "request https://www.douban.com/doulist/1689404/ ...\n",
      "request https://www.douban.com/doulist/45882848/ ...\n",
      "request https://www.douban.com/doulist/46633186/ ...\n",
      "request https://www.douban.com/doulist/41749522/ ...\n",
      "request https://www.douban.com/doulist/67457911/ ...\n",
      "request https://www.douban.com/doulist/40215201/ ...\n",
      "request https://www.douban.com/doulist/1689399/ ...\n",
      "request https://www.douban.com/doulist/116580372/ ...\n",
      "request https://www.douban.com/doulist/112308024/ ...\n",
      "request https://www.douban.com/doulist/110815128/ ...\n",
      "request https://www.douban.com/doulist/37581469/ ...\n",
      "request https://www.douban.com/doulist/41916951/ ...\n",
      "request https://www.douban.com/doulist/115064554/ ...\n",
      "request https://www.douban.com/doulist/108636342/ ...\n",
      "request https://www.douban.com/doulist/46547196/ ...\n",
      "request https://www.douban.com/doulist/1767927/ ...\n",
      "request https://www.douban.com/doulist/44685355/ ...\n",
      "request https://www.douban.com/doulist/45211346/ ...\n",
      "request https://www.douban.com/doulist/46303985/ ...\n",
      "request https://www.douban.com/doulist/42313455/ ...\n",
      "request https://www.douban.com/doulist/1779540/ ...\n",
      "request https://www.douban.com/doulist/1779379/ ...\n",
      "request https://www.douban.com/doulist/109113733/ ...\n",
      "request https://www.douban.com/doulist/109667388/ ...\n",
      "request https://www.douban.com/doulist/45703250/ ...\n",
      "request https://www.douban.com/doulist/46618234/ ...\n",
      "request https://www.douban.com/doulist/46624514/ ...\n",
      "request https://www.douban.com/doulist/40854103/ ...\n",
      "request https://www.douban.com/doulist/1686793/ ...\n",
      "request https://www.douban.com/doulist/38216029/ ...\n",
      "request https://www.douban.com/doulist/46555944/ ...\n",
      "request https://www.douban.com/doulist/1767907/ ...\n",
      "request https://www.douban.com/doulist/46474381/ ...\n",
      "request https://www.douban.com/doulist/1767916/ ...\n",
      "request https://www.douban.com/doulist/41500790/ ...\n",
      "request https://www.douban.com/doulist/45737386/ ...\n",
      "request https://www.douban.com/doulist/1689442/ ...\n",
      "request https://www.douban.com/doulist/43689666/ ...\n",
      "request https://www.douban.com/doulist/44012820/ ...\n",
      "request https://www.douban.com/doulist/43944081/ ...\n",
      "request https://www.douban.com/doulist/40897118/ ...\n",
      "request https://www.douban.com/doulist/41792144/ ...\n",
      "request https://www.douban.com/doulist/41923531/ ...\n",
      "request https://www.douban.com/doulist/1779295/ ...\n",
      "request https://www.douban.com/doulist/4132550/ ...\n",
      "request https://www.douban.com/doulist/40217127/ ...\n",
      "request https://www.douban.com/doulist/40216757/ ...\n",
      "request https://www.douban.com/doulist/40215504/ ...\n",
      "request https://www.douban.com/doulist/39402755/ ...\n",
      "request https://www.douban.com/doulist/37373330/ ...\n",
      "request https://www.douban.com/doulist/1687032/ ...\n"
     ]
    },
    {
     "data": {
      "text/plain": [
       "[('概率论/Probability Theory',\n",
       "  [22, 22],\n",
       "  'https://www.douban.com/doulist/119758691/'),\n",
       " ('线性代数/Linear Algebra',\n",
       "  [10, 11],\n",
       "  'https://www.douban.com/doulist/119758590/'),\n",
       " ('微积分/Calculus', [19, 19], 'https://www.douban.com/doulist/119758751/'),\n",
       " ('数学思维/数学科普/Math', [15, 26, 2], 'https://www.douban.com/doulist/111460931/'),\n",
       " ('统计学/Statistics', [39, 40], 'https://www.douban.com/doulist/111461569/'),\n",
       " ('探索性数据分析/Exploratory Data Analysis',\n",
       "  [29, 29, 1],\n",
       "  'https://www.douban.com/doulist/45963852/'),\n",
       " ('数据科学/Data Science', [22, 22], 'https://www.douban.com/doulist/119731263/'),\n",
       " ('逻辑/Logic/思考/思考力/批判性思维',\n",
       "  [22, 23],\n",
       "  'https://www.douban.com/doulist/111535748/'),\n",
       " ('统计学/Statistics - 吴喜之老师的著作译作',\n",
       "  [14, 14],\n",
       "  'https://www.douban.com/doulist/120364733/'),\n",
       " ('数据可视化/Data Visualisation',\n",
       "  [10, 12],\n",
       "  'https://www.douban.com/doulist/45904272/'),\n",
       " ('Python基础库：数据科学/数据分析/机器学习',\n",
       "  [37, 37],\n",
       "  'https://www.douban.com/doulist/120213205/'),\n",
       " ('机器学习/Machine Learning',\n",
       "  [14, 27],\n",
       "  'https://www.douban.com/doulist/45886960/'),\n",
       " ('深度学习/Deep Learning', [11, 11], 'https://www.douban.com/doulist/119758049/'),\n",
       " ('Python应用：机器学习/Machine Learning',\n",
       "  [14, 17],\n",
       "  'https://www.douban.com/doulist/45885813/'),\n",
       " ('函数式编程/Functional Programming/FP',\n",
       "  [14, 26, 2],\n",
       "  'https://www.douban.com/doulist/45730623/'),\n",
       " ('范畴论/Category Theory', [16, 17], 'https://www.douban.com/doulist/45800044/'),\n",
       " ('数学建模/Mathematical Modeling',\n",
       "  [4, 4],\n",
       "  'https://www.douban.com/doulist/120134394/'),\n",
       " ('数据结构+算法/data structure + algorithm',\n",
       "  [31, 37],\n",
       "  'https://www.douban.com/doulist/1785153/'),\n",
       " ('领域驱动设计/Domain-Driven Design/DDD',\n",
       "  [10, 12],\n",
       "  'https://www.douban.com/doulist/112308490/'),\n",
       " ('大数据/Big Data/大数据的软件工程',\n",
       "  [11, 11],\n",
       "  'https://www.douban.com/doulist/40606671/'),\n",
       " ('Python', [28, 29], 'https://www.douban.com/doulist/1689404/'),\n",
       " ('Python 应用/Application',\n",
       "  [10, 10],\n",
       "  'https://www.douban.com/doulist/45882848/'),\n",
       " ('排队论/Queueing Theory', [4, 4], 'https://www.douban.com/doulist/46633186/'),\n",
       " ('Scala', [38, 57, 5], 'https://www.douban.com/doulist/41749522/'),\n",
       " ('Kotlin', [15, 15], 'https://www.douban.com/doulist/67457911/'),\n",
       " ('编译原理/DSL/语言工程/编程语言理论',\n",
       "  [51, 57],\n",
       "  'https://www.douban.com/doulist/40215201/'),\n",
       " ('网络/Networking', [29, 32], 'https://www.douban.com/doulist/1689399/'),\n",
       " ('日文翻译版引进书籍', [49, 50], 'https://www.douban.com/doulist/116580372/'),\n",
       " ('（软件）架构 / Architecture',\n",
       "  [30, 29, 1],\n",
       "  'https://www.douban.com/doulist/112308024/'),\n",
       " ('代码素养/实践操作/工匠手艺/Legacy Code',\n",
       "  [18, 18],\n",
       "  'https://www.douban.com/doulist/110815128/'),\n",
       " ('Objective C/Xcode', [19, 19], 'https://www.douban.com/doulist/37581469/'),\n",
       " ('Concurrency/Parallelism/并发/并行',\n",
       "  [15, 23],\n",
       "  'https://www.douban.com/doulist/41916951/'),\n",
       " ('Rust', [5, 5], 'https://www.douban.com/doulist/115064554/'),\n",
       " ('Go/GoLang', [36, 37], 'https://www.douban.com/doulist/108636342/'),\n",
       " ('AKKA(the Actor model on JVM)',\n",
       "  [15, 16],\n",
       "  'https://www.douban.com/doulist/46547196/'),\n",
       " ('软件生命周期', [10, 12], 'https://www.douban.com/doulist/1767927/'),\n",
       " ('Erlang/OTP', [16, 26], 'https://www.douban.com/doulist/44685355/'),\n",
       " ('Elixir', [13, 15], 'https://www.douban.com/doulist/45211346/'),\n",
       " ('流式架构/反应式编程（Reactive）',\n",
       "  [22, 23],\n",
       "  'https://www.douban.com/doulist/46303985/'),\n",
       " ('历史/History', [15, 15], 'https://www.douban.com/doulist/42313455/'),\n",
       " ('Clojure', [30, 39], 'https://www.douban.com/doulist/1779540/'),\n",
       " ('Bash/Shell', [10, 11], 'https://www.douban.com/doulist/1779379/'),\n",
       " ('Gradle - 软件构建工具', [11, 12], 'https://www.douban.com/doulist/109113733/'),\n",
       " ('Spring + Boot + Cloud(Microservice)',\n",
       "  [13, 13],\n",
       "  'https://www.douban.com/doulist/109667388/'),\n",
       " ('Haskell', [20, 25], 'https://www.douban.com/doulist/45703250/'),\n",
       " ('系统性能/Performance/性能分析测试调优',\n",
       "  [25, 30],\n",
       "  'https://www.douban.com/doulist/46618234/'),\n",
       " ('调试/Debugging', [11, 11], 'https://www.douban.com/doulist/46624514/'),\n",
       " ('Lisp/Scheme/Racket', [19, 19], 'https://www.douban.com/doulist/40854103/'),\n",
       " ('Git', [10, 14], 'https://www.douban.com/doulist/1686793/'),\n",
       " ('Prolog/逻辑编程', [15, 15], 'https://www.douban.com/doulist/38216029/'),\n",
       " ('Blockchain/区块链', [7, 8], 'https://www.douban.com/doulist/46555944/'),\n",
       " ('C', [12, 12], 'https://www.douban.com/doulist/1767907/'),\n",
       " ('Java 8下的技术/技能升级', [8, 8], 'https://www.douban.com/doulist/46474381/'),\n",
       " ('软件测试', [17, 19], 'https://www.douban.com/doulist/1767916/'),\n",
       " ('Vim', [10, 14], 'https://www.douban.com/doulist/41500790/'),\n",
       " ('数据存储应用技术(Database Application)',\n",
       "  [13, 19],\n",
       "  'https://www.douban.com/doulist/45737386/'),\n",
       " ('计算机基础理论', [12, 12], 'https://www.douban.com/doulist/1689442/'),\n",
       " ('交流/管理/领导', [10, 10], 'https://www.douban.com/doulist/43689666/'),\n",
       " ('年年读', [12, 12], 'https://www.douban.com/doulist/44012820/'),\n",
       " ('IT思想大局', [4, 4], 'https://www.douban.com/doulist/43944081/'),\n",
       " ('Android', [19, 19], 'https://www.douban.com/doulist/40897118/'),\n",
       " ('做产品', [17, 17], 'https://www.douban.com/doulist/41792144/'),\n",
       " ('思路/思考/思维', [11, 11], 'https://www.douban.com/doulist/41923531/'),\n",
       " ('Java', [24, 24], 'https://www.douban.com/doulist/1779295/'),\n",
       " ('软件开发理念/专业开发/编程实践', [11, 11], 'https://www.douban.com/doulist/4132550/'),\n",
       " ('软件项目管理', [5, 5], 'https://www.douban.com/doulist/40217127/'),\n",
       " ('面向对象程序设计', [7, 7], 'https://www.douban.com/doulist/40216757/'),\n",
       " ('程序设计', [5, 5], 'https://www.douban.com/doulist/40215504/'),\n",
       " ('JavaScript', [17, 17], 'https://www.douban.com/doulist/39402755/'),\n",
       " ('iOS', [22, 22], 'https://www.douban.com/doulist/37373330/'),\n",
       " ('OSGi', [11, 11], 'https://www.douban.com/doulist/1687032/')]"
      ]
     },
     "execution_count": 19,
     "metadata": {},
     "output_type": "execute_result"
    }
   ],
   "source": [
    "total_result = list(get_result_info(all_doist_links))\n",
    "\n",
    "total_result"
   ]
  },
  {
   "cell_type": "code",
   "execution_count": 20,
   "metadata": {},
   "outputs": [],
   "source": [
    "incorrect_result = [result for result in total_result if not is_nums_correct(result[1])]"
   ]
  },
  {
   "cell_type": "code",
   "execution_count": 21,
   "metadata": {},
   "outputs": [
    {
     "data": {
      "text/plain": [
       "[('线性代数/Linear Algebra',\n",
       "  [10, 11],\n",
       "  'https://www.douban.com/doulist/119758590/'),\n",
       " ('数学思维/数学科普/Math', [15, 26, 2], 'https://www.douban.com/doulist/111460931/'),\n",
       " ('统计学/Statistics', [39, 40], 'https://www.douban.com/doulist/111461569/'),\n",
       " ('探索性数据分析/Exploratory Data Analysis',\n",
       "  [29, 29, 1],\n",
       "  'https://www.douban.com/doulist/45963852/'),\n",
       " ('逻辑/Logic/思考/思考力/批判性思维',\n",
       "  [22, 23],\n",
       "  'https://www.douban.com/doulist/111535748/'),\n",
       " ('数据可视化/Data Visualisation',\n",
       "  [10, 12],\n",
       "  'https://www.douban.com/doulist/45904272/'),\n",
       " ('机器学习/Machine Learning',\n",
       "  [14, 27],\n",
       "  'https://www.douban.com/doulist/45886960/'),\n",
       " ('Python应用：机器学习/Machine Learning',\n",
       "  [14, 17],\n",
       "  'https://www.douban.com/doulist/45885813/'),\n",
       " ('函数式编程/Functional Programming/FP',\n",
       "  [14, 26, 2],\n",
       "  'https://www.douban.com/doulist/45730623/'),\n",
       " ('范畴论/Category Theory', [16, 17], 'https://www.douban.com/doulist/45800044/'),\n",
       " ('数据结构+算法/data structure + algorithm',\n",
       "  [31, 37],\n",
       "  'https://www.douban.com/doulist/1785153/'),\n",
       " ('领域驱动设计/Domain-Driven Design/DDD',\n",
       "  [10, 12],\n",
       "  'https://www.douban.com/doulist/112308490/'),\n",
       " ('Python', [28, 29], 'https://www.douban.com/doulist/1689404/'),\n",
       " ('Scala', [38, 57, 5], 'https://www.douban.com/doulist/41749522/'),\n",
       " ('编译原理/DSL/语言工程/编程语言理论',\n",
       "  [51, 57],\n",
       "  'https://www.douban.com/doulist/40215201/'),\n",
       " ('网络/Networking', [29, 32], 'https://www.douban.com/doulist/1689399/'),\n",
       " ('日文翻译版引进书籍', [49, 50], 'https://www.douban.com/doulist/116580372/'),\n",
       " ('Concurrency/Parallelism/并发/并行',\n",
       "  [15, 23],\n",
       "  'https://www.douban.com/doulist/41916951/'),\n",
       " ('Go/GoLang', [36, 37], 'https://www.douban.com/doulist/108636342/'),\n",
       " ('AKKA(the Actor model on JVM)',\n",
       "  [15, 16],\n",
       "  'https://www.douban.com/doulist/46547196/'),\n",
       " ('软件生命周期', [10, 12], 'https://www.douban.com/doulist/1767927/'),\n",
       " ('Erlang/OTP', [16, 26], 'https://www.douban.com/doulist/44685355/'),\n",
       " ('Elixir', [13, 15], 'https://www.douban.com/doulist/45211346/'),\n",
       " ('流式架构/反应式编程（Reactive）',\n",
       "  [22, 23],\n",
       "  'https://www.douban.com/doulist/46303985/'),\n",
       " ('Clojure', [30, 39], 'https://www.douban.com/doulist/1779540/'),\n",
       " ('Bash/Shell', [10, 11], 'https://www.douban.com/doulist/1779379/'),\n",
       " ('Gradle - 软件构建工具', [11, 12], 'https://www.douban.com/doulist/109113733/'),\n",
       " ('Haskell', [20, 25], 'https://www.douban.com/doulist/45703250/'),\n",
       " ('系统性能/Performance/性能分析测试调优',\n",
       "  [25, 30],\n",
       "  'https://www.douban.com/doulist/46618234/'),\n",
       " ('Git', [10, 14], 'https://www.douban.com/doulist/1686793/'),\n",
       " ('Blockchain/区块链', [7, 8], 'https://www.douban.com/doulist/46555944/'),\n",
       " ('软件测试', [17, 19], 'https://www.douban.com/doulist/1767916/'),\n",
       " ('Vim', [10, 14], 'https://www.douban.com/doulist/41500790/'),\n",
       " ('数据存储应用技术(Database Application)',\n",
       "  [13, 19],\n",
       "  'https://www.douban.com/doulist/45737386/')]"
      ]
     },
     "execution_count": 21,
     "metadata": {},
     "output_type": "execute_result"
    }
   ],
   "source": [
    "incorrect_result"
   ]
  },
  {
   "cell_type": "code",
   "execution_count": 22,
   "metadata": {},
   "outputs": [
    {
     "name": "stdout",
     "output_type": "stream",
     "text": [
      "- [线性代数/Linear Algebra](https://www.douban.com/doulist/119758590/): 总共 10, 分项：[11]\n",
      "- [数学思维/数学科普/Math](https://www.douban.com/doulist/111460931/): 总共 15, 分项：[26, 2]\n",
      "- [统计学/Statistics](https://www.douban.com/doulist/111461569/): 总共 39, 分项：[40]\n",
      "- [探索性数据分析/Exploratory Data Analysis](https://www.douban.com/doulist/45963852/): 总共 29, 分项：[29, 1]\n",
      "- [逻辑/Logic/思考/思考力/批判性思维](https://www.douban.com/doulist/111535748/): 总共 22, 分项：[23]\n",
      "- [数据可视化/Data Visualisation](https://www.douban.com/doulist/45904272/): 总共 10, 分项：[12]\n",
      "- [机器学习/Machine Learning](https://www.douban.com/doulist/45886960/): 总共 14, 分项：[27]\n",
      "- [Python应用：机器学习/Machine Learning](https://www.douban.com/doulist/45885813/): 总共 14, 分项：[17]\n",
      "- [函数式编程/Functional Programming/FP](https://www.douban.com/doulist/45730623/): 总共 14, 分项：[26, 2]\n",
      "- [范畴论/Category Theory](https://www.douban.com/doulist/45800044/): 总共 16, 分项：[17]\n",
      "- [数据结构+算法/data structure + algorithm](https://www.douban.com/doulist/1785153/): 总共 31, 分项：[37]\n",
      "- [领域驱动设计/Domain-Driven Design/DDD](https://www.douban.com/doulist/112308490/): 总共 10, 分项：[12]\n",
      "- [Python](https://www.douban.com/doulist/1689404/): 总共 28, 分项：[29]\n",
      "- [Scala](https://www.douban.com/doulist/41749522/): 总共 38, 分项：[57, 5]\n",
      "- [编译原理/DSL/语言工程/编程语言理论](https://www.douban.com/doulist/40215201/): 总共 51, 分项：[57]\n",
      "- [网络/Networking](https://www.douban.com/doulist/1689399/): 总共 29, 分项：[32]\n",
      "- [日文翻译版引进书籍](https://www.douban.com/doulist/116580372/): 总共 49, 分项：[50]\n",
      "- [Concurrency/Parallelism/并发/并行](https://www.douban.com/doulist/41916951/): 总共 15, 分项：[23]\n",
      "- [Go/GoLang](https://www.douban.com/doulist/108636342/): 总共 36, 分项：[37]\n",
      "- [AKKA(the Actor model on JVM)](https://www.douban.com/doulist/46547196/): 总共 15, 分项：[16]\n",
      "- [软件生命周期](https://www.douban.com/doulist/1767927/): 总共 10, 分项：[12]\n",
      "- [Erlang/OTP](https://www.douban.com/doulist/44685355/): 总共 16, 分项：[26]\n",
      "- [Elixir](https://www.douban.com/doulist/45211346/): 总共 13, 分项：[15]\n",
      "- [流式架构/反应式编程（Reactive）](https://www.douban.com/doulist/46303985/): 总共 22, 分项：[23]\n",
      "- [Clojure](https://www.douban.com/doulist/1779540/): 总共 30, 分项：[39]\n",
      "- [Bash/Shell](https://www.douban.com/doulist/1779379/): 总共 10, 分项：[11]\n",
      "- [Gradle - 软件构建工具](https://www.douban.com/doulist/109113733/): 总共 11, 分项：[12]\n",
      "- [Haskell](https://www.douban.com/doulist/45703250/): 总共 20, 分项：[25]\n",
      "- [系统性能/Performance/性能分析测试调优](https://www.douban.com/doulist/46618234/): 总共 25, 分项：[30]\n",
      "- [Git](https://www.douban.com/doulist/1686793/): 总共 10, 分项：[14]\n",
      "- [Blockchain/区块链](https://www.douban.com/doulist/46555944/): 总共 7, 分项：[8]\n",
      "- [软件测试](https://www.douban.com/doulist/1767916/): 总共 17, 分项：[19]\n",
      "- [Vim](https://www.douban.com/doulist/41500790/): 总共 10, 分项：[14]\n",
      "- [数据存储应用技术(Database Application)](https://www.douban.com/doulist/45737386/): 总共 13, 分项：[19]\n"
     ]
    }
   ],
   "source": [
    "for result in incorrect_result:\n",
    "    print(f'- [{result[0]}]({result[2]}): 总共 {result[1][0]}, 分项：{result[1][1:]}')"
   ]
  },
  {
   "cell_type": "markdown",
   "metadata": {},
   "source": [
    "# 相关资料\n",
    "\n",
    "- [python爬虫里信息提取的核心方法: Beautifulsoup Xpath 正则表达式 - 简书](https://www.jianshu.com/p/41d06a4ed896)\n",
    "- [解决Requests中文乱码](https://blog.csdn.net/chaowanghn/article/details/54889835)"
   ]
  }
 ],
 "metadata": {
  "kernelspec": {
   "display_name": "Python 3",
   "language": "python",
   "name": "python3"
  },
  "language_info": {
   "codemirror_mode": {
    "name": "ipython",
    "version": 3
   },
   "file_extension": ".py",
   "mimetype": "text/x-python",
   "name": "python",
   "nbconvert_exporter": "python",
   "pygments_lexer": "ipython3",
   "version": "3.7.4"
  }
 },
 "nbformat": 4,
 "nbformat_minor": 2
}
